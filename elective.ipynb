{
 "cells": [
  {
   "cell_type": "markdown",
   "id": "84da7724",
   "metadata": {},
   "source": [
    "## Importando as dependências do projeto"
   ]
  },
  {
   "cell_type": "code",
   "execution_count": 3,
   "id": "78f84420",
   "metadata": {},
   "outputs": [],
   "source": [
    "import numpy as np\n",
    "from scipy.stats import shapiro, pearsonr, spearmanr\n",
    "import matplotlib.pyplot as plt"
   ]
  },
  {
   "cell_type": "markdown",
   "id": "fad5b9b7",
   "metadata": {},
   "source": [
    "## Base de dados para análise"
   ]
  },
  {
   "cell_type": "code",
   "execution_count": 5,
   "id": "dafc3a38",
   "metadata": {},
   "outputs": [],
   "source": [
    "grupo_a = [3, 5, 7, 9, 11]\n",
    "grupo_b = [2, 4, 6, 8, 10]"
   ]
  },
  {
   "cell_type": "markdown",
   "id": "d92f4c4d",
   "metadata": {},
   "source": [
    "## Exibir os valores de média, mediana e desvio padrão de cada grupo."
   ]
  },
  {
   "cell_type": "code",
   "execution_count": 7,
   "id": "d4561495",
   "metadata": {},
   "outputs": [
    {
     "name": "stdout",
     "output_type": "stream",
     "text": [
      "Grupo A - Média: 7.0, Mediana: 7.0, Desvio padrão: 3.1622776601683795\n",
      "Grupo B - Média: 6.0, Mediana: 6.0, Desvio padrão: 3.1622776601683795\n"
     ]
    }
   ],
   "source": [
    "media_a = np.mean(grupo_a)\n",
    "mediana_a = np.median(grupo_a)\n",
    "desvio_a = np.std(grupo_a, ddof=1) \n",
    "\n",
    "media_b = np.mean(grupo_b)\n",
    "mediana_b = np.median(grupo_b)\n",
    "desvio_b = np.std(grupo_b, ddof=1)\n",
    "\n",
    "print(f\"Grupo A - Média: {media_a}, Mediana: {mediana_a}, Desvio padrão: {desvio_a}\")\n",
    "print(f\"Grupo B - Média: {media_b}, Mediana: {mediana_b}, Desvio padrão: {desvio_b}\")"
   ]
  },
  {
   "cell_type": "markdown",
   "id": "da8bbf9b",
   "metadata": {},
   "source": [
    "## Teste de Normalidade (Shapiro-Wilk)"
   ]
  },
  {
   "cell_type": "code",
   "execution_count": 8,
   "id": "e39b41c2",
   "metadata": {},
   "outputs": [
    {
     "name": "stdout",
     "output_type": "stream",
     "text": [
      "Shapiro-Wilk Grupo A: ShapiroResult(statistic=np.float64(0.986762155211559), pvalue=np.float64(0.9671739349728582))\n",
      "Shapiro-Wilk Grupo B: ShapiroResult(statistic=np.float64(0.986762155211559), pvalue=np.float64(0.9671739349728582))\n"
     ]
    }
   ],
   "source": [
    "shapiro_a = shapiro(grupo_a)\n",
    "shapiro_b = shapiro(grupo_b)\n",
    "\n",
    "print(\"Shapiro-Wilk Grupo A:\", shapiro_a)\n",
    "print(\"Shapiro-Wilk Grupo B:\", shapiro_b)"
   ]
  },
  {
   "cell_type": "markdown",
   "id": "b181562c",
   "metadata": {},
   "source": [
    "## Correlação"
   ]
  },
  {
   "cell_type": "markdown",
   "id": "21b6af95",
   "metadata": {},
   "source": [
    "Escolha do teste (Pearson ou Spearman) com base na normalidade "
   ]
  },
  {
   "cell_type": "code",
   "execution_count": 10,
   "id": "67c29b52",
   "metadata": {},
   "outputs": [
    {
     "name": "stdout",
     "output_type": "stream",
     "text": [
      "Correlação (Pearson): coeficiente = 1.0, valor-p = 0.0\n"
     ]
    }
   ],
   "source": [
    "\n",
    "if shapiro_a.pvalue > 0.05 and shapiro_b.pvalue > 0.05:\n",
    "    corr, p_val = pearsonr(grupo_a, grupo_b)\n",
    "    tipo = \"Pearson\"\n",
    "else:\n",
    "    corr, p_val = spearmanr(grupo_a, grupo_b)\n",
    "    tipo = \"Spearman\"\n",
    "\n",
    "print(f\"Correlação ({tipo}): coeficiente = {corr}, valor-p = {p_val}\")"
   ]
  },
  {
   "cell_type": "markdown",
   "id": "bfdbb51c",
   "metadata": {},
   "source": [
    "## Normalidade verificada antes de escolher o teste de correlação pelos seguintes fatores a seguir: \n",
    "\n",
    "1. Correlação de Pearson:\n",
    "\n",
    "- Pressupõe normalidade dos dados;\n",
    "\n",
    "- Mede uma relação linear entre duas variáveis contínuas;\n",
    "\n",
    "- É sensível a outliers e a dados assimétricos;\n",
    "\n",
    "- Deve ser usada somente se os dados forem aproximadamente normais (valor-p > 0.05 no teste de Shapiro-Wilk).\n",
    "\n",
    "2. Correlação de Spearman:\n",
    "\n",
    "- Não exige normalidade;\n",
    "\n",
    "- É uma correlação não paramétrica que avalia a ordem (ranking) dos dados em vez dos valores absolutos;\n",
    "\n",
    "- Funciona bem com distribuições assimétricas, dados com outliers ou relações monotônicas não-lineares.\n",
    "\n",
    "\n",
    "E para finalizar, é importante ressaltar que o teste de Shapiro-Wilk verifica se os dados seguem uma distribuição normal:\n",
    "\n",
    "Se o valor-p > 0.05, não há evidência contra a normalidade → Utilizar Pearson.\n",
    "\n",
    "Se o valor-p ≤ 0.05, os dados provavelmente não são normais → Utilizar Spearman.\n",
    "\n",
    "\n",
    "Por isso, se os dados de grupo_a ou grupo_b não forem normalmente distribuídos, Pearson pode retornar um resultado incorreto ou distorcido. Usar Spearman nesse caso é mais seguro, pois ele não depende da distribuição.\n",
    "\n",
    "Aqui os dados são normalmente distribuídos e por isso faz sentido utilizar o teste de Pearson."
   ]
  },
  {
   "cell_type": "markdown",
   "id": "62406e1f",
   "metadata": {},
   "source": [
    "## Gráfico de dispersão"
   ]
  },
  {
   "cell_type": "code",
   "execution_count": 15,
   "id": "f7154f29",
   "metadata": {},
   "outputs": [
    {
     "data": {
      "image/png": "[encoded data removed]",
      "text/plain": [
       "<Figure size 640x480 with 1 Axes>"
      ]
     },
     "metadata": {},
     "output_type": "display_data"
    }
   ],
   "source": [
    "plt.scatter(grupo_a, grupo_b)\n",
    "plt.title('Dispersão entre Grupo A e B')\n",
    "plt.xlabel('Grupo A')\n",
    "plt.ylabel('Grupo B')\n",
    "plt.grid(True)\n",
    "plt.show()"
   ]
  }
 ],
 "metadata": {
  "kernelspec": {
   "display_name": "venv",
   "language": "python",
   "name": "python3"
  },
  "language_info": {
   "codemirror_mode": {
    "name": "ipython",
    "version": 3
   },
   "file_extension": ".py",
   "mimetype": "text/x-python",
   "name": "python",
   "nbconvert_exporter": "python",
   "pygments_lexer": "ipython3",
   "version": "3.13.2"
  }
 },
 "nbformat": 4,
 "nbformat_minor": 5
}
