{
 "cells": [
  {
   "cell_type": "markdown",
   "id": "ba7d6aad",
   "metadata": {},
   "source": [
    "## Importando as dependências do projeto"
   ]
  },
  {
   "cell_type": "code",
   "execution_count": 2,
   "id": "62261771",
   "metadata": {},
   "outputs": [],
   "source": [
    "import pandas as pd\n",
    "import numpy as np"
   ]
  },
  {
   "cell_type": "markdown",
   "id": "aab2e951",
   "metadata": {},
   "source": [
    "## Definir a minha base de dados"
   ]
  },
  {
   "cell_type": "code",
   "execution_count": 3,
   "id": "f1bdf6df",
   "metadata": {},
   "outputs": [],
   "source": [
    "dados = {\n",
    "    'Região': ['Norte', 'Norte', 'Sul', 'Sul', 'Norte'],\n",
    "    'Mês': ['Jan', 'Fev', 'Jan', 'Fev', 'Mar'],\n",
    "    'Vendas': [1500, np.nan, 2200, 1800, 2000],\n",
    "    'Despesas': [300, 250, np.nan, 400, 350]\n",
    "}"
   ]
  },
  {
   "cell_type": "markdown",
   "id": "2c67c5d1",
   "metadata": {},
   "source": [
    "## Criar DataFrame chamado \"sales\""
   ]
  },
  {
   "cell_type": "code",
   "execution_count": 42,
   "id": "18512822",
   "metadata": {},
   "outputs": [],
   "source": [
    "sales = pd.DataFrame(dados)"
   ]
  },
  {
   "cell_type": "markdown",
   "id": "df364ac3",
   "metadata": {},
   "source": [
    "## Exportar para Excel"
   ]
  },
  {
   "cell_type": "code",
   "execution_count": null,
   "id": "a921999b",
   "metadata": {},
   "outputs": [],
   "source": [
    "sales.to_excel('datasets/dados_vendas.xlsx', index=False)"
   ]
  },
  {
   "cell_type": "markdown",
   "id": "18b30b50",
   "metadata": {},
   "source": [
    "## Leitura e análise dos dados "
   ]
  },
  {
   "cell_type": "code",
   "execution_count": 45,
   "id": "f5e5756c",
   "metadata": {},
   "outputs": [],
   "source": [
    "sales = pd.read_excel('datasets/dados_vendas.xlsx')"
   ]
  },
  {
   "cell_type": "code",
   "execution_count": 46,
   "id": "9a385eeb",
   "metadata": {},
   "outputs": [
    {
     "data": {
      "application/vnd.microsoft.datawrangler.viewer.v0+json": {
       "columns": [
        {
         "name": "index",
         "rawType": "int64",
         "type": "integer"
        },
        {
         "name": "Região",
         "rawType": "object",
         "type": "string"
        },
        {
         "name": "Mês",
         "rawType": "object",
         "type": "string"
        },
        {
         "name": "Vendas",
         "rawType": "float64",
         "type": "float"
        },
        {
         "name": "Despesas",
         "rawType": "float64",
         "type": "float"
        }
       ],
       "conversionMethod": "pd.DataFrame",
       "ref": "a3080d1d-928e-4abb-bb1b-d8f8e715c3c1",
       "rows": [
        [
         "0",
         "Norte",
         "Jan",
         "1500.0",
         "300.0"
        ],
        [
         "1",
         "Norte",
         "Fev",
         null,
         "250.0"
        ],
        [
         "2",
         "Sul",
         "Jan",
         "2200.0",
         null
        ],
        [
         "3",
         "Sul",
         "Fev",
         "1800.0",
         "400.0"
        ],
        [
         "4",
         "Norte",
         "Mar",
         "2000.0",
         "350.0"
        ]
       ],
       "shape": {
        "columns": 4,
        "rows": 5
       }
      },
      "text/html": [
       "<div>\n",
       "<style scoped>\n",
       "    .dataframe tbody tr th:only-of-type {\n",
       "        vertical-align: middle;\n",
       "    }\n",
       "\n",
       "    .dataframe tbody tr th {\n",
       "        vertical-align: top;\n",
       "    }\n",
       "\n",
       "    .dataframe thead th {\n",
       "        text-align: right;\n",
       "    }\n",
       "</style>\n",
       "<table border=\"1\" class=\"dataframe\">\n",
       "  <thead>\n",
       "    <tr style=\"text-align: right;\">\n",
       "      <th></th>\n",
       "      <th>Região</th>\n",
       "      <th>Mês</th>\n",
       "      <th>Vendas</th>\n",
       "      <th>Despesas</th>\n",
       "    </tr>\n",
       "  </thead>\n",
       "  <tbody>\n",
       "    <tr>\n",
       "      <th>0</th>\n",
       "      <td>Norte</td>\n",
       "      <td>Jan</td>\n",
       "      <td>1500.0</td>\n",
       "      <td>300.0</td>\n",
       "    </tr>\n",
       "    <tr>\n",
       "      <th>1</th>\n",
       "      <td>Norte</td>\n",
       "      <td>Fev</td>\n",
       "      <td>NaN</td>\n",
       "      <td>250.0</td>\n",
       "    </tr>\n",
       "    <tr>\n",
       "      <th>2</th>\n",
       "      <td>Sul</td>\n",
       "      <td>Jan</td>\n",
       "      <td>2200.0</td>\n",
       "      <td>NaN</td>\n",
       "    </tr>\n",
       "    <tr>\n",
       "      <th>3</th>\n",
       "      <td>Sul</td>\n",
       "      <td>Fev</td>\n",
       "      <td>1800.0</td>\n",
       "      <td>400.0</td>\n",
       "    </tr>\n",
       "    <tr>\n",
       "      <th>4</th>\n",
       "      <td>Norte</td>\n",
       "      <td>Mar</td>\n",
       "      <td>2000.0</td>\n",
       "      <td>350.0</td>\n",
       "    </tr>\n",
       "  </tbody>\n",
       "</table>\n",
       "</div>"
      ],
      "text/plain": [
       "  Região  Mês  Vendas  Despesas\n",
       "0  Norte  Jan  1500.0     300.0\n",
       "1  Norte  Fev     NaN     250.0\n",
       "2    Sul  Jan  2200.0       NaN\n",
       "3    Sul  Fev  1800.0     400.0\n",
       "4  Norte  Mar  2000.0     350.0"
      ]
     },
     "execution_count": 46,
     "metadata": {},
     "output_type": "execute_result"
    }
   ],
   "source": [
    "sales"
   ]
  },
  {
   "cell_type": "markdown",
   "id": "afa0bcf8",
   "metadata": {},
   "source": [
    "## Verificar se há valores nulos"
   ]
  },
  {
   "cell_type": "code",
   "execution_count": 47,
   "id": "ced48aad",
   "metadata": {},
   "outputs": [
    {
     "name": "stdout",
     "output_type": "stream",
     "text": [
      "   Região    Mês  Vendas  Despesas\n",
      "0   False  False   False     False\n",
      "1   False  False    True     False\n",
      "2   False  False   False      True\n",
      "3   False  False   False     False\n",
      "4   False  False   False     False\n"
     ]
    }
   ],
   "source": [
    "print(sales.isna())"
   ]
  },
  {
   "cell_type": "markdown",
   "id": "c409df26",
   "metadata": {},
   "source": [
    "## Exemplos de tratamento: \n",
    "\n"
   ]
  },
  {
   "cell_type": "markdown",
   "id": "2cb03209",
   "metadata": {},
   "source": [
    "**Tratamento 1** - Preencher nulos com 0"
   ]
  },
  {
   "cell_type": "code",
   "execution_count": null,
   "id": "0eb58be5",
   "metadata": {},
   "outputs": [],
   "source": [
    "sales.fillna(0, inplace=True)"
   ]
  },
  {
   "cell_type": "code",
   "execution_count": 37,
   "id": "292fa071",
   "metadata": {},
   "outputs": [
    {
     "data": {
      "application/vnd.microsoft.datawrangler.viewer.v0+json": {
       "columns": [
        {
         "name": "index",
         "rawType": "int64",
         "type": "integer"
        },
        {
         "name": "Região",
         "rawType": "object",
         "type": "string"
        },
        {
         "name": "Mês",
         "rawType": "object",
         "type": "string"
        },
        {
         "name": "Vendas",
         "rawType": "float64",
         "type": "float"
        },
        {
         "name": "Despesas",
         "rawType": "float64",
         "type": "float"
        }
       ],
       "conversionMethod": "pd.DataFrame",
       "ref": "6ed8cee5-66d5-4428-8350-d079bb4237c2",
       "rows": [
        [
         "0",
         "Norte",
         "Jan",
         "1500.0",
         "300.0"
        ],
        [
         "1",
         "Norte",
         "Fev",
         "0.0",
         "250.0"
        ],
        [
         "2",
         "Sul",
         "Jan",
         "2200.0",
         "0.0"
        ],
        [
         "3",
         "Sul",
         "Fev",
         "1800.0",
         "400.0"
        ],
        [
         "4",
         "Norte",
         "Mar",
         "2000.0",
         "350.0"
        ]
       ],
       "shape": {
        "columns": 4,
        "rows": 5
       }
      },
      "text/html": [
       "<div>\n",
       "<style scoped>\n",
       "    .dataframe tbody tr th:only-of-type {\n",
       "        vertical-align: middle;\n",
       "    }\n",
       "\n",
       "    .dataframe tbody tr th {\n",
       "        vertical-align: top;\n",
       "    }\n",
       "\n",
       "    .dataframe thead th {\n",
       "        text-align: right;\n",
       "    }\n",
       "</style>\n",
       "<table border=\"1\" class=\"dataframe\">\n",
       "  <thead>\n",
       "    <tr style=\"text-align: right;\">\n",
       "      <th></th>\n",
       "      <th>Região</th>\n",
       "      <th>Mês</th>\n",
       "      <th>Vendas</th>\n",
       "      <th>Despesas</th>\n",
       "    </tr>\n",
       "  </thead>\n",
       "  <tbody>\n",
       "    <tr>\n",
       "      <th>0</th>\n",
       "      <td>Norte</td>\n",
       "      <td>Jan</td>\n",
       "      <td>1500.0</td>\n",
       "      <td>300.0</td>\n",
       "    </tr>\n",
       "    <tr>\n",
       "      <th>1</th>\n",
       "      <td>Norte</td>\n",
       "      <td>Fev</td>\n",
       "      <td>0.0</td>\n",
       "      <td>250.0</td>\n",
       "    </tr>\n",
       "    <tr>\n",
       "      <th>2</th>\n",
       "      <td>Sul</td>\n",
       "      <td>Jan</td>\n",
       "      <td>2200.0</td>\n",
       "      <td>0.0</td>\n",
       "    </tr>\n",
       "    <tr>\n",
       "      <th>3</th>\n",
       "      <td>Sul</td>\n",
       "      <td>Fev</td>\n",
       "      <td>1800.0</td>\n",
       "      <td>400.0</td>\n",
       "    </tr>\n",
       "    <tr>\n",
       "      <th>4</th>\n",
       "      <td>Norte</td>\n",
       "      <td>Mar</td>\n",
       "      <td>2000.0</td>\n",
       "      <td>350.0</td>\n",
       "    </tr>\n",
       "  </tbody>\n",
       "</table>\n",
       "</div>"
      ],
      "text/plain": [
       "  Região  Mês  Vendas  Despesas\n",
       "0  Norte  Jan  1500.0     300.0\n",
       "1  Norte  Fev     0.0     250.0\n",
       "2    Sul  Jan  2200.0       0.0\n",
       "3    Sul  Fev  1800.0     400.0\n",
       "4  Norte  Mar  2000.0     350.0"
      ]
     },
     "execution_count": 37,
     "metadata": {},
     "output_type": "execute_result"
    }
   ],
   "source": [
    "sales"
   ]
  },
  {
   "cell_type": "markdown",
   "id": "7674ca6a",
   "metadata": {},
   "source": [
    "**Tratamento 2** - Preencher nulos com a média ou mediana da coluna (o mais recomendado)"
   ]
  },
  {
   "cell_type": "markdown",
   "id": "6dd5f050",
   "metadata": {},
   "source": [
    "Preenchendo valor nulo da coluna \"Vendas\" com a mediana da coluna."
   ]
  },
  {
   "cell_type": "code",
   "execution_count": 49,
   "id": "c641f5f5",
   "metadata": {},
   "outputs": [],
   "source": [
    "sales['Vendas'] = sales['Vendas'].fillna(sales['Vendas'].median())"
   ]
  },
  {
   "cell_type": "code",
   "execution_count": 50,
   "id": "29e6d9bd",
   "metadata": {},
   "outputs": [
    {
     "data": {
      "application/vnd.microsoft.datawrangler.viewer.v0+json": {
       "columns": [
        {
         "name": "index",
         "rawType": "int64",
         "type": "integer"
        },
        {
         "name": "Região",
         "rawType": "object",
         "type": "string"
        },
        {
         "name": "Mês",
         "rawType": "object",
         "type": "string"
        },
        {
         "name": "Vendas",
         "rawType": "float64",
         "type": "float"
        },
        {
         "name": "Despesas",
         "rawType": "float64",
         "type": "float"
        }
       ],
       "conversionMethod": "pd.DataFrame",
       "ref": "6e51dd57-2e42-4cab-951c-4c18d9b9c268",
       "rows": [
        [
         "0",
         "Norte",
         "Jan",
         "1500.0",
         "300.0"
        ],
        [
         "1",
         "Norte",
         "Fev",
         "1900.0",
         "250.0"
        ],
        [
         "2",
         "Sul",
         "Jan",
         "2200.0",
         null
        ],
        [
         "3",
         "Sul",
         "Fev",
         "1800.0",
         "400.0"
        ],
        [
         "4",
         "Norte",
         "Mar",
         "2000.0",
         "350.0"
        ]
       ],
       "shape": {
        "columns": 4,
        "rows": 5
       }
      },
      "text/html": [
       "<div>\n",
       "<style scoped>\n",
       "    .dataframe tbody tr th:only-of-type {\n",
       "        vertical-align: middle;\n",
       "    }\n",
       "\n",
       "    .dataframe tbody tr th {\n",
       "        vertical-align: top;\n",
       "    }\n",
       "\n",
       "    .dataframe thead th {\n",
       "        text-align: right;\n",
       "    }\n",
       "</style>\n",
       "<table border=\"1\" class=\"dataframe\">\n",
       "  <thead>\n",
       "    <tr style=\"text-align: right;\">\n",
       "      <th></th>\n",
       "      <th>Região</th>\n",
       "      <th>Mês</th>\n",
       "      <th>Vendas</th>\n",
       "      <th>Despesas</th>\n",
       "    </tr>\n",
       "  </thead>\n",
       "  <tbody>\n",
       "    <tr>\n",
       "      <th>0</th>\n",
       "      <td>Norte</td>\n",
       "      <td>Jan</td>\n",
       "      <td>1500.0</td>\n",
       "      <td>300.0</td>\n",
       "    </tr>\n",
       "    <tr>\n",
       "      <th>1</th>\n",
       "      <td>Norte</td>\n",
       "      <td>Fev</td>\n",
       "      <td>1900.0</td>\n",
       "      <td>250.0</td>\n",
       "    </tr>\n",
       "    <tr>\n",
       "      <th>2</th>\n",
       "      <td>Sul</td>\n",
       "      <td>Jan</td>\n",
       "      <td>2200.0</td>\n",
       "      <td>NaN</td>\n",
       "    </tr>\n",
       "    <tr>\n",
       "      <th>3</th>\n",
       "      <td>Sul</td>\n",
       "      <td>Fev</td>\n",
       "      <td>1800.0</td>\n",
       "      <td>400.0</td>\n",
       "    </tr>\n",
       "    <tr>\n",
       "      <th>4</th>\n",
       "      <td>Norte</td>\n",
       "      <td>Mar</td>\n",
       "      <td>2000.0</td>\n",
       "      <td>350.0</td>\n",
       "    </tr>\n",
       "  </tbody>\n",
       "</table>\n",
       "</div>"
      ],
      "text/plain": [
       "  Região  Mês  Vendas  Despesas\n",
       "0  Norte  Jan  1500.0     300.0\n",
       "1  Norte  Fev  1900.0     250.0\n",
       "2    Sul  Jan  2200.0       NaN\n",
       "3    Sul  Fev  1800.0     400.0\n",
       "4  Norte  Mar  2000.0     350.0"
      ]
     },
     "execution_count": 50,
     "metadata": {},
     "output_type": "execute_result"
    }
   ],
   "source": [
    "sales"
   ]
  },
  {
   "cell_type": "markdown",
   "id": "f5eaa341",
   "metadata": {},
   "source": [
    "Preenchendo valor nulo da coluna \"Despesas\" com a média da coluna."
   ]
  },
  {
   "cell_type": "code",
   "execution_count": 51,
   "id": "9b277966",
   "metadata": {},
   "outputs": [],
   "source": [
    "sales['Despesas'] = sales['Despesas'].fillna(sales['Despesas'].mean())"
   ]
  },
  {
   "cell_type": "code",
   "execution_count": 52,
   "id": "40b1f33c",
   "metadata": {},
   "outputs": [
    {
     "data": {
      "application/vnd.microsoft.datawrangler.viewer.v0+json": {
       "columns": [
        {
         "name": "index",
         "rawType": "int64",
         "type": "integer"
        },
        {
         "name": "Região",
         "rawType": "object",
         "type": "string"
        },
        {
         "name": "Mês",
         "rawType": "object",
         "type": "string"
        },
        {
         "name": "Vendas",
         "rawType": "float64",
         "type": "float"
        },
        {
         "name": "Despesas",
         "rawType": "float64",
         "type": "float"
        }
       ],
       "conversionMethod": "pd.DataFrame",
       "ref": "f2472c3a-9769-4af2-80eb-cd9b69f8a704",
       "rows": [
        [
         "0",
         "Norte",
         "Jan",
         "1500.0",
         "300.0"
        ],
        [
         "1",
         "Norte",
         "Fev",
         "1900.0",
         "250.0"
        ],
        [
         "2",
         "Sul",
         "Jan",
         "2200.0",
         "325.0"
        ],
        [
         "3",
         "Sul",
         "Fev",
         "1800.0",
         "400.0"
        ],
        [
         "4",
         "Norte",
         "Mar",
         "2000.0",
         "350.0"
        ]
       ],
       "shape": {
        "columns": 4,
        "rows": 5
       }
      },
      "text/html": [
       "<div>\n",
       "<style scoped>\n",
       "    .dataframe tbody tr th:only-of-type {\n",
       "        vertical-align: middle;\n",
       "    }\n",
       "\n",
       "    .dataframe tbody tr th {\n",
       "        vertical-align: top;\n",
       "    }\n",
       "\n",
       "    .dataframe thead th {\n",
       "        text-align: right;\n",
       "    }\n",
       "</style>\n",
       "<table border=\"1\" class=\"dataframe\">\n",
       "  <thead>\n",
       "    <tr style=\"text-align: right;\">\n",
       "      <th></th>\n",
       "      <th>Região</th>\n",
       "      <th>Mês</th>\n",
       "      <th>Vendas</th>\n",
       "      <th>Despesas</th>\n",
       "    </tr>\n",
       "  </thead>\n",
       "  <tbody>\n",
       "    <tr>\n",
       "      <th>0</th>\n",
       "      <td>Norte</td>\n",
       "      <td>Jan</td>\n",
       "      <td>1500.0</td>\n",
       "      <td>300.0</td>\n",
       "    </tr>\n",
       "    <tr>\n",
       "      <th>1</th>\n",
       "      <td>Norte</td>\n",
       "      <td>Fev</td>\n",
       "      <td>1900.0</td>\n",
       "      <td>250.0</td>\n",
       "    </tr>\n",
       "    <tr>\n",
       "      <th>2</th>\n",
       "      <td>Sul</td>\n",
       "      <td>Jan</td>\n",
       "      <td>2200.0</td>\n",
       "      <td>325.0</td>\n",
       "    </tr>\n",
       "    <tr>\n",
       "      <th>3</th>\n",
       "      <td>Sul</td>\n",
       "      <td>Fev</td>\n",
       "      <td>1800.0</td>\n",
       "      <td>400.0</td>\n",
       "    </tr>\n",
       "    <tr>\n",
       "      <th>4</th>\n",
       "      <td>Norte</td>\n",
       "      <td>Mar</td>\n",
       "      <td>2000.0</td>\n",
       "      <td>350.0</td>\n",
       "    </tr>\n",
       "  </tbody>\n",
       "</table>\n",
       "</div>"
      ],
      "text/plain": [
       "  Região  Mês  Vendas  Despesas\n",
       "0  Norte  Jan  1500.0     300.0\n",
       "1  Norte  Fev  1900.0     250.0\n",
       "2    Sul  Jan  2200.0     325.0\n",
       "3    Sul  Fev  1800.0     400.0\n",
       "4  Norte  Mar  2000.0     350.0"
      ]
     },
     "execution_count": 52,
     "metadata": {},
     "output_type": "execute_result"
    }
   ],
   "source": [
    "sales"
   ]
  },
  {
   "cell_type": "code",
   "execution_count": 74,
   "id": "9e74cd84",
   "metadata": {},
   "outputs": [
    {
     "name": "stdout",
     "output_type": "stream",
     "text": [
      "  Região  Mês  Vendas  Despesas\n",
      "0  Norte  Jan  1500.0     300.0\n",
      "1  Norte  Fev  1900.0     250.0\n",
      "2    Sul  Jan  2200.0     325.0\n",
      "3    Sul  Fev  1800.0     400.0\n",
      "4  Norte  Mar  2000.0     350.0\n"
     ]
    }
   ],
   "source": [
    "print(sales)"
   ]
  },
  {
   "cell_type": "markdown",
   "id": "1b6f3c55",
   "metadata": {},
   "source": [
    "## Agrupar os dados por \"Região\" e \"Mês\" e calcular a soma total das vendas e média das despesas."
   ]
  },
  {
   "cell_type": "code",
   "execution_count": 55,
   "id": "5ab3de63",
   "metadata": {},
   "outputs": [],
   "source": [
    "salesgrouped = sales.groupby(['Região', 'Mês']).agg({\n",
    "    'Vendas': 'sum',       # Soma total de vendas\n",
    "    'Despesas': 'mean'     # Média das despesas\n",
    "}).reset_index()"
   ]
  },
  {
   "cell_type": "markdown",
   "id": "13c9c021",
   "metadata": {},
   "source": [
    "**OBS.**: Na minha tabela não há valores repetidos para as colunas de Região e Mês. \n",
    "\n",
    "Se houvesse, \n",
    "\n",
    "- O groupby(['Região', 'Mês']) iria juntar as linhas que têm os mesmos valores de Região e Mês;\n",
    "\n",
    "- A função .agg() aplicaria funções de agregação a cada grupo:\n",
    "\n",
    "'Vendas': 'sum' soma todos os valores de vendas do grupo 'Vendas'.\n",
    "\n",
    "'Despesas': 'mean' tira a média dos valores de despesas do grupo 'Despesas'."
   ]
  },
  {
   "cell_type": "code",
   "execution_count": 73,
   "id": "52ffb324",
   "metadata": {},
   "outputs": [
    {
     "data": {
      "application/vnd.microsoft.datawrangler.viewer.v0+json": {
       "columns": [
        {
         "name": "index",
         "rawType": "int64",
         "type": "integer"
        },
        {
         "name": "Região",
         "rawType": "object",
         "type": "string"
        },
        {
         "name": "Mês",
         "rawType": "object",
         "type": "string"
        },
        {
         "name": "Vendas",
         "rawType": "float64",
         "type": "float"
        },
        {
         "name": "Despesas",
         "rawType": "float64",
         "type": "float"
        }
       ],
       "conversionMethod": "pd.DataFrame",
       "ref": "10d63c2e-4b6b-4d27-8f92-4149d48f11cb",
       "rows": [
        [
         "0",
         "Norte",
         "Fev",
         "1900.0",
         "250.0"
        ],
        [
         "1",
         "Norte",
         "Jan",
         "1500.0",
         "300.0"
        ],
        [
         "2",
         "Norte",
         "Mar",
         "2000.0",
         "350.0"
        ],
        [
         "3",
         "Sul",
         "Fev",
         "1800.0",
         "400.0"
        ],
        [
         "4",
         "Sul",
         "Jan",
         "2200.0",
         "325.0"
        ]
       ],
       "shape": {
        "columns": 4,
        "rows": 5
       }
      },
      "text/html": [
       "<div>\n",
       "<style scoped>\n",
       "    .dataframe tbody tr th:only-of-type {\n",
       "        vertical-align: middle;\n",
       "    }\n",
       "\n",
       "    .dataframe tbody tr th {\n",
       "        vertical-align: top;\n",
       "    }\n",
       "\n",
       "    .dataframe thead th {\n",
       "        text-align: right;\n",
       "    }\n",
       "</style>\n",
       "<table border=\"1\" class=\"dataframe\">\n",
       "  <thead>\n",
       "    <tr style=\"text-align: right;\">\n",
       "      <th></th>\n",
       "      <th>Região</th>\n",
       "      <th>Mês</th>\n",
       "      <th>Vendas</th>\n",
       "      <th>Despesas</th>\n",
       "    </tr>\n",
       "  </thead>\n",
       "  <tbody>\n",
       "    <tr>\n",
       "      <th>0</th>\n",
       "      <td>Norte</td>\n",
       "      <td>Fev</td>\n",
       "      <td>1900.0</td>\n",
       "      <td>250.0</td>\n",
       "    </tr>\n",
       "    <tr>\n",
       "      <th>1</th>\n",
       "      <td>Norte</td>\n",
       "      <td>Jan</td>\n",
       "      <td>1500.0</td>\n",
       "      <td>300.0</td>\n",
       "    </tr>\n",
       "    <tr>\n",
       "      <th>2</th>\n",
       "      <td>Norte</td>\n",
       "      <td>Mar</td>\n",
       "      <td>2000.0</td>\n",
       "      <td>350.0</td>\n",
       "    </tr>\n",
       "    <tr>\n",
       "      <th>3</th>\n",
       "      <td>Sul</td>\n",
       "      <td>Fev</td>\n",
       "      <td>1800.0</td>\n",
       "      <td>400.0</td>\n",
       "    </tr>\n",
       "    <tr>\n",
       "      <th>4</th>\n",
       "      <td>Sul</td>\n",
       "      <td>Jan</td>\n",
       "      <td>2200.0</td>\n",
       "      <td>325.0</td>\n",
       "    </tr>\n",
       "  </tbody>\n",
       "</table>\n",
       "</div>"
      ],
      "text/plain": [
       "  Região  Mês  Vendas  Despesas\n",
       "0  Norte  Fev  1900.0     250.0\n",
       "1  Norte  Jan  1500.0     300.0\n",
       "2  Norte  Mar  2000.0     350.0\n",
       "3    Sul  Fev  1800.0     400.0\n",
       "4    Sul  Jan  2200.0     325.0"
      ]
     },
     "execution_count": 73,
     "metadata": {},
     "output_type": "execute_result"
    }
   ],
   "source": [
    "salesgrouped"
   ]
  },
  {
   "cell_type": "code",
   "execution_count": 72,
   "id": "dff4749d",
   "metadata": {},
   "outputs": [
    {
     "name": "stdout",
     "output_type": "stream",
     "text": [
      "  Região  Mês  Vendas  Despesas\n",
      "0  Norte  Fev  1900.0     250.0\n",
      "1  Norte  Jan  1500.0     300.0\n",
      "2  Norte  Mar  2000.0     350.0\n",
      "3    Sul  Fev  1800.0     400.0\n",
      "4    Sul  Jan  2200.0     325.0\n"
     ]
    }
   ],
   "source": [
    "print(salesgrouped)"
   ]
  },
  {
   "cell_type": "markdown",
   "id": "c4ea67fe",
   "metadata": {},
   "source": [
    "## Combinar horizontalmente (hstack) as colunas \"Vendas\" e \"Despesas\" após substituição."
   ]
  },
  {
   "cell_type": "markdown",
   "id": "cebc22e8",
   "metadata": {},
   "source": [
    "hstack exige array 2D, então é necessário utilizar reshape"
   ]
  },
  {
   "cell_type": "code",
   "execution_count": null,
   "id": "8f86fe32",
   "metadata": {},
   "outputs": [],
   "source": [
    "vendas_array = sales['Vendas'].values.reshape(-1, 1)\n",
    "despesas_array = sales['Despesas'].values.reshape(-1, 1)"
   ]
  },
  {
   "cell_type": "markdown",
   "id": "656d1a08",
   "metadata": {},
   "source": [
    "Combinar horizontalmente"
   ]
  },
  {
   "cell_type": "code",
   "execution_count": 59,
   "id": "95178f1c",
   "metadata": {},
   "outputs": [],
   "source": [
    "combinado = np.hstack([vendas_array, despesas_array])"
   ]
  },
  {
   "cell_type": "code",
   "execution_count": 70,
   "id": "b91f1511",
   "metadata": {},
   "outputs": [
    {
     "name": "stdout",
     "output_type": "stream",
     "text": [
      "[[1500.  300.]\n",
      " [1900.  250.]\n",
      " [2200.  325.]\n",
      " [1800.  400.]\n",
      " [2000.  350.]]\n"
     ]
    }
   ],
   "source": [
    "print(combinado)"
   ]
  },
  {
   "cell_type": "markdown",
   "id": "ce207efc",
   "metadata": {},
   "source": [
    "##  Gerar um sumário estatístico (média, mediana, desvio padrão) para todas as colunas numéricas (dados contínuos)."
   ]
  },
  {
   "cell_type": "markdown",
   "id": "54009672",
   "metadata": {},
   "source": [
    "Selecionar apenas as colunas numéricas"
   ]
  },
  {
   "cell_type": "code",
   "execution_count": 64,
   "id": "3046cc94",
   "metadata": {},
   "outputs": [],
   "source": [
    "cols_numericas = sales.select_dtypes(include='number')\n"
   ]
  },
  {
   "cell_type": "markdown",
   "id": "b03855eb",
   "metadata": {},
   "source": [
    "Criar um novo dataframe com o meu sumário desejado"
   ]
  },
  {
   "cell_type": "code",
   "execution_count": 65,
   "id": "7cdc8cc0",
   "metadata": {},
   "outputs": [],
   "source": [
    "sumario_estatistico = pd.DataFrame({\n",
    "    'Média': cols_numericas.mean(),\n",
    "    'Mediana': cols_numericas.median(),\n",
    "    'Desvio Padrão': cols_numericas.std()\n",
    "})"
   ]
  },
  {
   "cell_type": "code",
   "execution_count": 69,
   "id": "9453db33",
   "metadata": {},
   "outputs": [
    {
     "name": "stdout",
     "output_type": "stream",
     "text": [
      "           Média  Mediana  Desvio Padrão\n",
      "Vendas    1880.0   1900.0     258.843582\n",
      "Despesas   325.0    325.0      55.901699\n"
     ]
    }
   ],
   "source": [
    "print(sumario_estatistico)"
   ]
  },
  {
   "cell_type": "markdown",
   "id": "6cf832a5",
   "metadata": {},
   "source": [
    "## Visualização dos dados através de gráficos"
   ]
  },
  {
   "cell_type": "code",
   "execution_count": 76,
   "id": "b04664b5",
   "metadata": {},
   "outputs": [],
   "source": [
    "import matplotlib.pyplot as plt"
   ]
  },
  {
   "cell_type": "markdown",
   "id": "773b1861",
   "metadata": {},
   "source": [
    "Gráfico de barras (agrupado por estatística):\n"
   ]
  },
  {
   "cell_type": "code",
   "execution_count": 78,
   "id": "5bd2814f",
   "metadata": {},
   "outputs": [
    {
     "data": {
      "image/png": "[encoded data removed]",
      "text/plain": [
       "<Figure size 640x480 with 1 Axes>"
      ]
     },
     "metadata": {},
     "output_type": "display_data"
    }
   ],
   "source": [
    "sumario_estatistico.plot(kind='bar')\n",
    "plt.title('Sumário Estatístico por Variável')\n",
    "plt.ylabel('Valor')\n",
    "plt.xlabel('Variável')\n",
    "plt.legend(title='Estatística')\n",
    "plt.xticks(rotation=0)\n",
    "plt.tight_layout()\n",
    "plt.show()"
   ]
  },
  {
   "cell_type": "markdown",
   "id": "1a871c60",
   "metadata": {},
   "source": [
    "Gráfico de barras transposto (agrupado por coluna):"
   ]
  },
  {
   "cell_type": "code",
   "execution_count": 79,
   "id": "40f17739",
   "metadata": {},
   "outputs": [
    {
     "data": {
      "image/png": "[encoded data removed]",
      "text/plain": [
       "<Figure size 640x480 with 1 Axes>"
      ]
     },
     "metadata": {},
     "output_type": "display_data"
    }
   ],
   "source": [
    "sumario_estatistico.T.plot(kind='bar')\n",
    "plt.title('Estatísticas das Colunas Numéricas')\n",
    "plt.ylabel('Valor')\n",
    "plt.xlabel('Estatística')\n",
    "plt.legend(title='Variável')\n",
    "plt.xticks(rotation=0)\n",
    "plt.tight_layout()\n",
    "plt.show()"
   ]
  },
  {
   "cell_type": "code",
   "execution_count": null,
   "id": "fca0cd42",
   "metadata": {},
   "outputs": [],
   "source": [
    "with pd.ExcelWriter('datasets/dados_vendas_analise.xlsx') as writer:\n",
    "    sales.to_excel(writer, sheet_name='Dados Tratados', index=False)\n",
    "    salesgrouped.to_excel(writer, sheet_name='Dados Agrupados', index=False)\n",
    "    sumario_estatistico.to_excel(writer, sheet_name='Sumário Estatístico')"
   ]
  }
 ],
 "metadata": {
  "kernelspec": {
   "display_name": "venv",
   "language": "python",
   "name": "python3"
  },
  "language_info": {
   "codemirror_mode": {
    "name": "ipython",
    "version": 3
   },
   "file_extension": ".py",
   "mimetype": "text/x-python",
   "name": "python",
   "nbconvert_exporter": "python",
   "pygments_lexer": "ipython3",
   "version": "3.13.2"
  }
 },
 "nbformat": 4,
 "nbformat_minor": 5
}
